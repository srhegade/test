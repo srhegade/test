{
 "cells": [
  {
   "cell_type": "code",
   "execution_count": 39,
   "metadata": {},
   "outputs": [],
   "source": [
    "import pandas as pd # data wrangling\n",
    "import numpy as np #linear algebra\n",
    "import matplotlib.pyplot as plt # data visualization\n",
    "%matplotlib inline\n",
    "import seaborn as sns # data visualization\n",
    "import warnings\n",
    "warnings.filterwarnings(\"ignore\")"
   ]
  },
  {
   "cell_type": "code",
   "execution_count": 40,
   "metadata": {},
   "outputs": [],
   "source": [
    "#importing data set\n",
    "train = pd.read_csv('train.csv')\n",
    "test = pd.read_csv('test.csv')"
   ]
  },
  {
   "cell_type": "code",
   "execution_count": 41,
   "metadata": {},
   "outputs": [
    {
     "data": {
      "text/html": [
       "<div>\n",
       "<style scoped>\n",
       "    .dataframe tbody tr th:only-of-type {\n",
       "        vertical-align: middle;\n",
       "    }\n",
       "\n",
       "    .dataframe tbody tr th {\n",
       "        vertical-align: top;\n",
       "    }\n",
       "\n",
       "    .dataframe thead th {\n",
       "        text-align: right;\n",
       "    }\n",
       "</style>\n",
       "<table border=\"1\" class=\"dataframe\">\n",
       "  <thead>\n",
       "    <tr style=\"text-align: right;\">\n",
       "      <th></th>\n",
       "      <th>battery_power</th>\n",
       "      <th>blue</th>\n",
       "      <th>clock_speed</th>\n",
       "      <th>dual_sim</th>\n",
       "      <th>fc</th>\n",
       "      <th>four_g</th>\n",
       "      <th>int_memory</th>\n",
       "      <th>m_dep</th>\n",
       "      <th>mobile_wt</th>\n",
       "      <th>n_cores</th>\n",
       "      <th>...</th>\n",
       "      <th>px_height</th>\n",
       "      <th>px_width</th>\n",
       "      <th>ram</th>\n",
       "      <th>sc_h</th>\n",
       "      <th>sc_w</th>\n",
       "      <th>talk_time</th>\n",
       "      <th>three_g</th>\n",
       "      <th>touch_screen</th>\n",
       "      <th>wifi</th>\n",
       "      <th>price_range</th>\n",
       "    </tr>\n",
       "  </thead>\n",
       "  <tbody>\n",
       "    <tr>\n",
       "      <th>0</th>\n",
       "      <td>842</td>\n",
       "      <td>0</td>\n",
       "      <td>2.2</td>\n",
       "      <td>0</td>\n",
       "      <td>1</td>\n",
       "      <td>0</td>\n",
       "      <td>7</td>\n",
       "      <td>0.6</td>\n",
       "      <td>188</td>\n",
       "      <td>2</td>\n",
       "      <td>...</td>\n",
       "      <td>20</td>\n",
       "      <td>756</td>\n",
       "      <td>2549</td>\n",
       "      <td>9</td>\n",
       "      <td>7</td>\n",
       "      <td>19</td>\n",
       "      <td>0</td>\n",
       "      <td>0</td>\n",
       "      <td>1</td>\n",
       "      <td>1</td>\n",
       "    </tr>\n",
       "    <tr>\n",
       "      <th>1</th>\n",
       "      <td>1021</td>\n",
       "      <td>1</td>\n",
       "      <td>0.5</td>\n",
       "      <td>1</td>\n",
       "      <td>0</td>\n",
       "      <td>1</td>\n",
       "      <td>53</td>\n",
       "      <td>0.7</td>\n",
       "      <td>136</td>\n",
       "      <td>3</td>\n",
       "      <td>...</td>\n",
       "      <td>905</td>\n",
       "      <td>1988</td>\n",
       "      <td>2631</td>\n",
       "      <td>17</td>\n",
       "      <td>3</td>\n",
       "      <td>7</td>\n",
       "      <td>1</td>\n",
       "      <td>1</td>\n",
       "      <td>0</td>\n",
       "      <td>2</td>\n",
       "    </tr>\n",
       "    <tr>\n",
       "      <th>2</th>\n",
       "      <td>563</td>\n",
       "      <td>1</td>\n",
       "      <td>0.5</td>\n",
       "      <td>1</td>\n",
       "      <td>2</td>\n",
       "      <td>1</td>\n",
       "      <td>41</td>\n",
       "      <td>0.9</td>\n",
       "      <td>145</td>\n",
       "      <td>5</td>\n",
       "      <td>...</td>\n",
       "      <td>1263</td>\n",
       "      <td>1716</td>\n",
       "      <td>2603</td>\n",
       "      <td>11</td>\n",
       "      <td>2</td>\n",
       "      <td>9</td>\n",
       "      <td>1</td>\n",
       "      <td>1</td>\n",
       "      <td>0</td>\n",
       "      <td>2</td>\n",
       "    </tr>\n",
       "    <tr>\n",
       "      <th>3</th>\n",
       "      <td>615</td>\n",
       "      <td>1</td>\n",
       "      <td>2.5</td>\n",
       "      <td>0</td>\n",
       "      <td>0</td>\n",
       "      <td>0</td>\n",
       "      <td>10</td>\n",
       "      <td>0.8</td>\n",
       "      <td>131</td>\n",
       "      <td>6</td>\n",
       "      <td>...</td>\n",
       "      <td>1216</td>\n",
       "      <td>1786</td>\n",
       "      <td>2769</td>\n",
       "      <td>16</td>\n",
       "      <td>8</td>\n",
       "      <td>11</td>\n",
       "      <td>1</td>\n",
       "      <td>0</td>\n",
       "      <td>0</td>\n",
       "      <td>2</td>\n",
       "    </tr>\n",
       "    <tr>\n",
       "      <th>4</th>\n",
       "      <td>1821</td>\n",
       "      <td>1</td>\n",
       "      <td>1.2</td>\n",
       "      <td>0</td>\n",
       "      <td>13</td>\n",
       "      <td>1</td>\n",
       "      <td>44</td>\n",
       "      <td>0.6</td>\n",
       "      <td>141</td>\n",
       "      <td>2</td>\n",
       "      <td>...</td>\n",
       "      <td>1208</td>\n",
       "      <td>1212</td>\n",
       "      <td>1411</td>\n",
       "      <td>8</td>\n",
       "      <td>2</td>\n",
       "      <td>15</td>\n",
       "      <td>1</td>\n",
       "      <td>1</td>\n",
       "      <td>0</td>\n",
       "      <td>1</td>\n",
       "    </tr>\n",
       "  </tbody>\n",
       "</table>\n",
       "<p>5 rows × 21 columns</p>\n",
       "</div>"
      ],
      "text/plain": [
       "   battery_power  blue  clock_speed  dual_sim  fc  four_g  int_memory  m_dep  \\\n",
       "0            842     0          2.2         0   1       0           7    0.6   \n",
       "1           1021     1          0.5         1   0       1          53    0.7   \n",
       "2            563     1          0.5         1   2       1          41    0.9   \n",
       "3            615     1          2.5         0   0       0          10    0.8   \n",
       "4           1821     1          1.2         0  13       1          44    0.6   \n",
       "\n",
       "   mobile_wt  n_cores  ...  px_height  px_width   ram  sc_h  sc_w  talk_time  \\\n",
       "0        188        2  ...         20       756  2549     9     7         19   \n",
       "1        136        3  ...        905      1988  2631    17     3          7   \n",
       "2        145        5  ...       1263      1716  2603    11     2          9   \n",
       "3        131        6  ...       1216      1786  2769    16     8         11   \n",
       "4        141        2  ...       1208      1212  1411     8     2         15   \n",
       "\n",
       "   three_g  touch_screen  wifi  price_range  \n",
       "0        0             0     1            1  \n",
       "1        1             1     0            2  \n",
       "2        1             1     0            2  \n",
       "3        1             0     0            2  \n",
       "4        1             1     0            1  \n",
       "\n",
       "[5 rows x 21 columns]"
      ]
     },
     "execution_count": 41,
     "metadata": {},
     "output_type": "execute_result"
    }
   ],
   "source": [
    "train.head()"
   ]
  },
  {
   "cell_type": "code",
   "execution_count": 42,
   "metadata": {},
   "outputs": [
    {
     "data": {
      "text/html": [
       "<div>\n",
       "<style scoped>\n",
       "    .dataframe tbody tr th:only-of-type {\n",
       "        vertical-align: middle;\n",
       "    }\n",
       "\n",
       "    .dataframe tbody tr th {\n",
       "        vertical-align: top;\n",
       "    }\n",
       "\n",
       "    .dataframe thead th {\n",
       "        text-align: right;\n",
       "    }\n",
       "</style>\n",
       "<table border=\"1\" class=\"dataframe\">\n",
       "  <thead>\n",
       "    <tr style=\"text-align: right;\">\n",
       "      <th></th>\n",
       "      <th>id</th>\n",
       "      <th>battery_power</th>\n",
       "      <th>blue</th>\n",
       "      <th>clock_speed</th>\n",
       "      <th>dual_sim</th>\n",
       "      <th>fc</th>\n",
       "      <th>four_g</th>\n",
       "      <th>int_memory</th>\n",
       "      <th>m_dep</th>\n",
       "      <th>mobile_wt</th>\n",
       "      <th>...</th>\n",
       "      <th>pc</th>\n",
       "      <th>px_height</th>\n",
       "      <th>px_width</th>\n",
       "      <th>ram</th>\n",
       "      <th>sc_h</th>\n",
       "      <th>sc_w</th>\n",
       "      <th>talk_time</th>\n",
       "      <th>three_g</th>\n",
       "      <th>touch_screen</th>\n",
       "      <th>wifi</th>\n",
       "    </tr>\n",
       "  </thead>\n",
       "  <tbody>\n",
       "    <tr>\n",
       "      <th>0</th>\n",
       "      <td>1</td>\n",
       "      <td>1043</td>\n",
       "      <td>1</td>\n",
       "      <td>1.8</td>\n",
       "      <td>1</td>\n",
       "      <td>14</td>\n",
       "      <td>0</td>\n",
       "      <td>5</td>\n",
       "      <td>0.1</td>\n",
       "      <td>193</td>\n",
       "      <td>...</td>\n",
       "      <td>16</td>\n",
       "      <td>226</td>\n",
       "      <td>1412</td>\n",
       "      <td>3476</td>\n",
       "      <td>12</td>\n",
       "      <td>7</td>\n",
       "      <td>2</td>\n",
       "      <td>0</td>\n",
       "      <td>1</td>\n",
       "      <td>0</td>\n",
       "    </tr>\n",
       "    <tr>\n",
       "      <th>1</th>\n",
       "      <td>2</td>\n",
       "      <td>841</td>\n",
       "      <td>1</td>\n",
       "      <td>0.5</td>\n",
       "      <td>1</td>\n",
       "      <td>4</td>\n",
       "      <td>1</td>\n",
       "      <td>61</td>\n",
       "      <td>0.8</td>\n",
       "      <td>191</td>\n",
       "      <td>...</td>\n",
       "      <td>12</td>\n",
       "      <td>746</td>\n",
       "      <td>857</td>\n",
       "      <td>3895</td>\n",
       "      <td>6</td>\n",
       "      <td>0</td>\n",
       "      <td>7</td>\n",
       "      <td>1</td>\n",
       "      <td>0</td>\n",
       "      <td>0</td>\n",
       "    </tr>\n",
       "    <tr>\n",
       "      <th>2</th>\n",
       "      <td>3</td>\n",
       "      <td>1807</td>\n",
       "      <td>1</td>\n",
       "      <td>2.8</td>\n",
       "      <td>0</td>\n",
       "      <td>1</td>\n",
       "      <td>0</td>\n",
       "      <td>27</td>\n",
       "      <td>0.9</td>\n",
       "      <td>186</td>\n",
       "      <td>...</td>\n",
       "      <td>4</td>\n",
       "      <td>1270</td>\n",
       "      <td>1366</td>\n",
       "      <td>2396</td>\n",
       "      <td>17</td>\n",
       "      <td>10</td>\n",
       "      <td>10</td>\n",
       "      <td>0</td>\n",
       "      <td>1</td>\n",
       "      <td>1</td>\n",
       "    </tr>\n",
       "    <tr>\n",
       "      <th>3</th>\n",
       "      <td>4</td>\n",
       "      <td>1546</td>\n",
       "      <td>0</td>\n",
       "      <td>0.5</td>\n",
       "      <td>1</td>\n",
       "      <td>18</td>\n",
       "      <td>1</td>\n",
       "      <td>25</td>\n",
       "      <td>0.5</td>\n",
       "      <td>96</td>\n",
       "      <td>...</td>\n",
       "      <td>20</td>\n",
       "      <td>295</td>\n",
       "      <td>1752</td>\n",
       "      <td>3893</td>\n",
       "      <td>10</td>\n",
       "      <td>0</td>\n",
       "      <td>7</td>\n",
       "      <td>1</td>\n",
       "      <td>1</td>\n",
       "      <td>0</td>\n",
       "    </tr>\n",
       "    <tr>\n",
       "      <th>4</th>\n",
       "      <td>5</td>\n",
       "      <td>1434</td>\n",
       "      <td>0</td>\n",
       "      <td>1.4</td>\n",
       "      <td>0</td>\n",
       "      <td>11</td>\n",
       "      <td>1</td>\n",
       "      <td>49</td>\n",
       "      <td>0.5</td>\n",
       "      <td>108</td>\n",
       "      <td>...</td>\n",
       "      <td>18</td>\n",
       "      <td>749</td>\n",
       "      <td>810</td>\n",
       "      <td>1773</td>\n",
       "      <td>15</td>\n",
       "      <td>8</td>\n",
       "      <td>7</td>\n",
       "      <td>1</td>\n",
       "      <td>0</td>\n",
       "      <td>1</td>\n",
       "    </tr>\n",
       "  </tbody>\n",
       "</table>\n",
       "<p>5 rows × 21 columns</p>\n",
       "</div>"
      ],
      "text/plain": [
       "   id  battery_power  blue  clock_speed  dual_sim  fc  four_g  int_memory  \\\n",
       "0   1           1043     1          1.8         1  14       0           5   \n",
       "1   2            841     1          0.5         1   4       1          61   \n",
       "2   3           1807     1          2.8         0   1       0          27   \n",
       "3   4           1546     0          0.5         1  18       1          25   \n",
       "4   5           1434     0          1.4         0  11       1          49   \n",
       "\n",
       "   m_dep  mobile_wt  ...  pc  px_height  px_width   ram  sc_h  sc_w  \\\n",
       "0    0.1        193  ...  16        226      1412  3476    12     7   \n",
       "1    0.8        191  ...  12        746       857  3895     6     0   \n",
       "2    0.9        186  ...   4       1270      1366  2396    17    10   \n",
       "3    0.5         96  ...  20        295      1752  3893    10     0   \n",
       "4    0.5        108  ...  18        749       810  1773    15     8   \n",
       "\n",
       "   talk_time  three_g  touch_screen  wifi  \n",
       "0          2        0             1     0  \n",
       "1          7        1             0     0  \n",
       "2         10        0             1     1  \n",
       "3          7        1             1     0  \n",
       "4          7        1             0     1  \n",
       "\n",
       "[5 rows x 21 columns]"
      ]
     },
     "execution_count": 42,
     "metadata": {},
     "output_type": "execute_result"
    }
   ],
   "source": [
    "test.head()"
   ]
  },
  {
   "cell_type": "code",
   "execution_count": 43,
   "metadata": {},
   "outputs": [
    {
     "data": {
      "text/plain": [
       "(2000, 21)"
      ]
     },
     "execution_count": 43,
     "metadata": {},
     "output_type": "execute_result"
    }
   ],
   "source": [
    "#Dimenssion of data\n",
    "train.shape"
   ]
  },
  {
   "cell_type": "code",
   "execution_count": 44,
   "metadata": {},
   "outputs": [
    {
     "name": "stdout",
     "output_type": "stream",
     "text": [
      "Train : False  Test :  False\n"
     ]
    }
   ],
   "source": [
    "#checking missing values in train and test data set\n",
    "a = train.isnull().values.any()\n",
    "b = test.isnull().values.any()\n",
    "print(\"Train :\",a,\" Test : \",b)"
   ]
  },
  {
   "cell_type": "code",
   "execution_count": 45,
   "metadata": {},
   "outputs": [],
   "source": [
    "#Renaming column name for train data set\n",
    "train = train.rename(columns = {'pc':'RearCamera', 'fc':'FrontCamera', 'sc_h':'ScreenHight',\n",
    "                                'sc_w':'ScreenWidth','m_dep':'MobileDepth','px_width':'PixelWidth',\n",
    "                                'ram':'Ram','int_memory':'Rom','four_g':'4G',\n",
    "                                'three_g': '3G','dual_sim':'DualSim','battery_power':'BatteryPower','touch_screen':'TouchScreen',\n",
    "                                'clock_speed':'ClockSpeed','n_cores':'Core','wifi':'WiFi','talk_time':'TalkTime',\n",
    "                                'price_range':'PriceRange','blue':'Bluetooth','px_height':'PixelHieght','mobile_wt':'MobileWeight'})"
   ]
  },
  {
   "cell_type": "code",
   "execution_count": 46,
   "metadata": {},
   "outputs": [],
   "source": [
    "#Renaming column name for test data set\n",
    "test = test.rename(columns = {'id':'ID','pc':'RearCamera', 'fc':'FrontCamera', 'sc_h':'ScreenHight',\n",
    "                                'sc_w':'ScreenWidth','m_dep':'MobileDepth','px_width':'PixelWidth',\n",
    "                                'ram':'Ram','int_memory':'Rom','four_g':'4G',\n",
    "                                'three_g': '3G','dual_sim':'DualSim','battery_power':'BatteryPower','touch_screen':'TouchScreen',\n",
    "                                'clock_speed':'ClockSpeed','n_cores':'Core','wifi':'WiFi','talk_time':'TalkTime',\n",
    "                                'price_range':'PriceRange','blue':'Bluetooth','px_height':'PixelHieght','mobile_wt':'MobileWeight'})"
   ]
  },
  {
   "cell_type": "code",
   "execution_count": 47,
   "metadata": {},
   "outputs": [
    {
     "data": {
      "text/plain": [
       "BatteryPower      int64\n",
       "Bluetooth         int64\n",
       "ClockSpeed      float64\n",
       "DualSim           int64\n",
       "FrontCamera       int64\n",
       "4G                int64\n",
       "Rom               int64\n",
       "MobileDepth     float64\n",
       "MobileWeight      int64\n",
       "Core              int64\n",
       "RearCamera        int64\n",
       "PixelHieght       int64\n",
       "PixelWidth        int64\n",
       "Ram               int64\n",
       "ScreenHight       int64\n",
       "ScreenWidth       int64\n",
       "TalkTime          int64\n",
       "3G                int64\n",
       "TouchScreen       int64\n",
       "WiFi              int64\n",
       "PriceRange        int64\n",
       "dtype: object"
      ]
     },
     "execution_count": 47,
     "metadata": {},
     "output_type": "execute_result"
    }
   ],
   "source": [
    "#Checking data types \n",
    "train.dtypes"
   ]
  },
  {
   "cell_type": "code",
   "execution_count": 48,
   "metadata": {},
   "outputs": [
    {
     "data": {
      "text/plain": [
       "BatteryPower      int64\n",
       "Bluetooth         int64\n",
       "ClockSpeed      float64\n",
       "DualSim           int64\n",
       "FrontCamera       int64\n",
       "4G                int64\n",
       "Rom               int64\n",
       "MobileDepth     float64\n",
       "MobileWeight      int64\n",
       "Core              int64\n",
       "RearCamera        int64\n",
       "PixelHieght       int64\n",
       "PixelWidth        int64\n",
       "Ram               int64\n",
       "ScreenHight       int64\n",
       "ScreenWidth       int64\n",
       "TalkTime          int64\n",
       "3G                int64\n",
       "TouchScreen       int64\n",
       "WiFi              int64\n",
       "PriceRange        int64\n",
       "dtype: object"
      ]
     },
     "execution_count": 48,
     "metadata": {},
     "output_type": "execute_result"
    }
   ],
   "source": [
    "#Checking data types \n",
    "train.dtypes"
   ]
  },
  {
   "cell_type": "code",
   "execution_count": 49,
   "metadata": {},
   "outputs": [
    {
     "data": {
      "text/html": [
       "<div>\n",
       "<style scoped>\n",
       "    .dataframe tbody tr th:only-of-type {\n",
       "        vertical-align: middle;\n",
       "    }\n",
       "\n",
       "    .dataframe tbody tr th {\n",
       "        vertical-align: top;\n",
       "    }\n",
       "\n",
       "    .dataframe thead th {\n",
       "        text-align: right;\n",
       "    }\n",
       "</style>\n",
       "<table border=\"1\" class=\"dataframe\">\n",
       "  <thead>\n",
       "    <tr style=\"text-align: right;\">\n",
       "      <th></th>\n",
       "      <th>BatteryPower</th>\n",
       "      <th>Bluetooth</th>\n",
       "      <th>ClockSpeed</th>\n",
       "      <th>DualSim</th>\n",
       "      <th>FrontCamera</th>\n",
       "      <th>4G</th>\n",
       "      <th>Rom</th>\n",
       "      <th>MobileDepth</th>\n",
       "      <th>MobileWeight</th>\n",
       "      <th>Core</th>\n",
       "      <th>RearCamera</th>\n",
       "      <th>PixelHieght</th>\n",
       "      <th>PixelWidth</th>\n",
       "      <th>Ram</th>\n",
       "      <th>ScreenHight</th>\n",
       "      <th>ScreenWidth</th>\n",
       "      <th>TalkTime</th>\n",
       "      <th>3G</th>\n",
       "      <th>TouchScreen</th>\n",
       "      <th>WiFi</th>\n",
       "    </tr>\n",
       "    <tr>\n",
       "      <th>PriceRange</th>\n",
       "      <th></th>\n",
       "      <th></th>\n",
       "      <th></th>\n",
       "      <th></th>\n",
       "      <th></th>\n",
       "      <th></th>\n",
       "      <th></th>\n",
       "      <th></th>\n",
       "      <th></th>\n",
       "      <th></th>\n",
       "      <th></th>\n",
       "      <th></th>\n",
       "      <th></th>\n",
       "      <th></th>\n",
       "      <th></th>\n",
       "      <th></th>\n",
       "      <th></th>\n",
       "      <th></th>\n",
       "      <th></th>\n",
       "      <th></th>\n",
       "    </tr>\n",
       "  </thead>\n",
       "  <tbody>\n",
       "    <tr>\n",
       "      <th>0</th>\n",
       "      <td>1116.902</td>\n",
       "      <td>0.486</td>\n",
       "      <td>1.5502</td>\n",
       "      <td>0.500</td>\n",
       "      <td>4.084</td>\n",
       "      <td>0.518</td>\n",
       "      <td>31.174</td>\n",
       "      <td>0.4902</td>\n",
       "      <td>140.552</td>\n",
       "      <td>4.600</td>\n",
       "      <td>9.574</td>\n",
       "      <td>536.408</td>\n",
       "      <td>1150.270</td>\n",
       "      <td>785.314</td>\n",
       "      <td>12.324</td>\n",
       "      <td>5.682</td>\n",
       "      <td>10.612</td>\n",
       "      <td>0.746</td>\n",
       "      <td>0.524</td>\n",
       "      <td>0.496</td>\n",
       "    </tr>\n",
       "    <tr>\n",
       "      <th>1</th>\n",
       "      <td>1228.868</td>\n",
       "      <td>0.490</td>\n",
       "      <td>1.4886</td>\n",
       "      <td>0.510</td>\n",
       "      <td>4.340</td>\n",
       "      <td>0.524</td>\n",
       "      <td>32.116</td>\n",
       "      <td>0.5240</td>\n",
       "      <td>140.510</td>\n",
       "      <td>4.298</td>\n",
       "      <td>9.924</td>\n",
       "      <td>666.892</td>\n",
       "      <td>1251.908</td>\n",
       "      <td>1679.490</td>\n",
       "      <td>12.212</td>\n",
       "      <td>5.544</td>\n",
       "      <td>11.362</td>\n",
       "      <td>0.756</td>\n",
       "      <td>0.522</td>\n",
       "      <td>0.504</td>\n",
       "    </tr>\n",
       "    <tr>\n",
       "      <th>2</th>\n",
       "      <td>1228.320</td>\n",
       "      <td>0.486</td>\n",
       "      <td>1.5298</td>\n",
       "      <td>0.498</td>\n",
       "      <td>4.498</td>\n",
       "      <td>0.494</td>\n",
       "      <td>30.920</td>\n",
       "      <td>0.4908</td>\n",
       "      <td>143.614</td>\n",
       "      <td>4.682</td>\n",
       "      <td>10.018</td>\n",
       "      <td>632.284</td>\n",
       "      <td>1234.046</td>\n",
       "      <td>2582.816</td>\n",
       "      <td>12.010</td>\n",
       "      <td>5.714</td>\n",
       "      <td>10.972</td>\n",
       "      <td>0.774</td>\n",
       "      <td>0.470</td>\n",
       "      <td>0.504</td>\n",
       "    </tr>\n",
       "    <tr>\n",
       "      <th>3</th>\n",
       "      <td>1379.984</td>\n",
       "      <td>0.518</td>\n",
       "      <td>1.5204</td>\n",
       "      <td>0.530</td>\n",
       "      <td>4.316</td>\n",
       "      <td>0.550</td>\n",
       "      <td>33.976</td>\n",
       "      <td>0.5020</td>\n",
       "      <td>136.320</td>\n",
       "      <td>4.502</td>\n",
       "      <td>10.150</td>\n",
       "      <td>744.848</td>\n",
       "      <td>1369.838</td>\n",
       "      <td>3449.232</td>\n",
       "      <td>12.680</td>\n",
       "      <td>6.128</td>\n",
       "      <td>11.098</td>\n",
       "      <td>0.770</td>\n",
       "      <td>0.496</td>\n",
       "      <td>0.524</td>\n",
       "    </tr>\n",
       "  </tbody>\n",
       "</table>\n",
       "</div>"
      ],
      "text/plain": [
       "            BatteryPower  Bluetooth  ClockSpeed  DualSim  FrontCamera     4G  \\\n",
       "PriceRange                                                                     \n",
       "0               1116.902      0.486      1.5502    0.500        4.084  0.518   \n",
       "1               1228.868      0.490      1.4886    0.510        4.340  0.524   \n",
       "2               1228.320      0.486      1.5298    0.498        4.498  0.494   \n",
       "3               1379.984      0.518      1.5204    0.530        4.316  0.550   \n",
       "\n",
       "               Rom  MobileDepth  MobileWeight   Core  RearCamera  PixelHieght  \\\n",
       "PriceRange                                                                      \n",
       "0           31.174       0.4902       140.552  4.600       9.574      536.408   \n",
       "1           32.116       0.5240       140.510  4.298       9.924      666.892   \n",
       "2           30.920       0.4908       143.614  4.682      10.018      632.284   \n",
       "3           33.976       0.5020       136.320  4.502      10.150      744.848   \n",
       "\n",
       "            PixelWidth       Ram  ScreenHight  ScreenWidth  TalkTime     3G  \\\n",
       "PriceRange                                                                    \n",
       "0             1150.270   785.314       12.324        5.682    10.612  0.746   \n",
       "1             1251.908  1679.490       12.212        5.544    11.362  0.756   \n",
       "2             1234.046  2582.816       12.010        5.714    10.972  0.774   \n",
       "3             1369.838  3449.232       12.680        6.128    11.098  0.770   \n",
       "\n",
       "            TouchScreen   WiFi  \n",
       "PriceRange                      \n",
       "0                 0.524  0.496  \n",
       "1                 0.522  0.504  \n",
       "2                 0.470  0.504  \n",
       "3                 0.496  0.524  "
      ]
     },
     "execution_count": 49,
     "metadata": {},
     "output_type": "execute_result"
    }
   ],
   "source": [
    "#checking price range by group by\n",
    "PriceRange_Group = train.groupby('PriceRange')\n",
    "PriceRange_Group.mean()"
   ]
  },
  {
   "cell_type": "code",
   "execution_count": 50,
   "metadata": {},
   "outputs": [
    {
     "data": {
      "text/plain": [
       "<matplotlib.axes._subplots.AxesSubplot at 0x11211890>"
      ]
     },
     "execution_count": 50,
     "metadata": {},
     "output_type": "execute_result"
    },
    {
     "data": {
      "image/png": "[encoded data removed]",
      "text/plain": [
       "<Figure size 432x288 with 1 Axes>"
      ]
     },
     "metadata": {
      "needs_background": "light"
     },
     "output_type": "display_data"
    }
   ],
   "source": [
    "sns.pointplot(y = \"Rom\", x = \"PriceRange\", data = train)"
   ]
  },
  {
   "cell_type": "code",
   "execution_count": 51,
   "metadata": {},
   "outputs": [
    {
     "data": {
      "image/png": "[encoded data removed]",
      "text/plain": [
       "<Figure size 432x288 with 1 Axes>"
      ]
     },
     "metadata": {},
     "output_type": "display_data"
    }
   ],
   "source": [
    "labels = [\"3G-Supported\",'Not Supported']\n",
    "values=train['3G'].value_counts().values\n",
    "fig1, ax1 = plt.subplots()\n",
    "ax1.pie(values, labels=labels, autopct = '%1.1f%%', shadow=True, startangle=90)\n",
    "plt.show()"
   ]
  },
  {
   "cell_type": "code",
   "execution_count": 52,
   "metadata": {},
   "outputs": [
    {
     "data": {
      "image/png": "[encoded data removed]",
      "text/plain": [
       "<Figure size 432x288 with 1 Axes>"
      ]
     },
     "metadata": {},
     "output_type": "display_data"
    }
   ],
   "source": [
    "labels = [\"Dual Sim-Supported\", \"Not Supported\"]\n",
    "values = train['DualSim'].value_counts().values\n",
    "fig1, ax1 =plt.subplots()\n",
    "ax1.pie(values, labels=labels, autopct = '%1.1f%%', shadow=True, startangle=90)\n",
    "plt.show()"
   ]
  },
  {
   "cell_type": "code",
   "execution_count": 53,
   "metadata": {},
   "outputs": [
    {
     "data": {
      "text/plain": [
       "<matplotlib.axes._subplots.AxesSubplot at 0xf0e6d90>"
      ]
     },
     "execution_count": 53,
     "metadata": {},
     "output_type": "execute_result"
    },
    {
     "data": {
      "image/png": "[encoded data removed]",
      "text/plain": [
       "<Figure size 432x288 with 1 Axes>"
      ]
     },
     "metadata": {
      "needs_background": "light"
     },
     "output_type": "display_data"
    }
   ],
   "source": [
    "sns.boxplot(x=\"PriceRange\", y=\"BatteryPower\", data=train)"
   ]
  },
  {
   "cell_type": "code",
   "execution_count": 54,
   "metadata": {},
   "outputs": [
    {
     "data": {
      "text/plain": [
       "Text(0.5, 0, 'MegaPixels')"
      ]
     },
     "execution_count": 54,
     "metadata": {},
     "output_type": "execute_result"
    },
    {
     "data": {
      "image/png": "[encoded data removed]",
      "text/plain": [
       "<Figure size 1080x648 with 1 Axes>"
      ]
     },
     "metadata": {
      "needs_background": "light"
     },
     "output_type": "display_data"
    }
   ],
   "source": [
    "plt.figure(figsize=(15,9))\n",
    "train['FrontCamera'].hist(alpha=0.5,color='blue',label='Front camera')\n",
    "train['RearCamera'].hist(alpha=0.5,color='red',label='Primary camera')\n",
    "plt.legend()\n",
    "plt.xlabel('MegaPixels')"
   ]
  },
  {
   "cell_type": "code",
   "execution_count": 55,
   "metadata": {
    "scrolled": true
   },
   "outputs": [
    {
     "data": {
      "text/plain": [
       "0    1010\n",
       "1     990\n",
       "Name: Bluetooth, dtype: int64"
      ]
     },
     "execution_count": 55,
     "metadata": {},
     "output_type": "execute_result"
    }
   ],
   "source": [
    "train.Bluetooth.value_counts()"
   ]
  },
  {
   "cell_type": "code",
   "execution_count": 56,
   "metadata": {},
   "outputs": [
    {
     "data": {
      "image/png": "[encoded data removed]",
      "text/plain": [
       "<Figure size 432x288 with 1 Axes>"
      ]
     },
     "metadata": {
      "needs_background": "light"
     },
     "output_type": "display_data"
    },
    {
     "data": {
      "image/png": "[encoded data removed]",
      "text/plain": [
       "<Figure size 432x288 with 1 Axes>"
      ]
     },
     "metadata": {},
     "output_type": "display_data"
    }
   ],
   "source": [
    "plt.title('Has bluetooth?')\n",
    "labels = 'Yes', 'No'\n",
    "sizes=train['Bluetooth'].value_counts().values\n",
    "#sizes = [990, 1010]\n",
    "fig1, ax1 = plt.subplots()\n",
    "ax1.pie(sizes, labels=labels, autopct='%1.1f%%', startangle=90)\n",
    "ax1.axis('equal') \n",
    "\n",
    "plt.show()"
   ]
  },
  {
   "cell_type": "code",
   "execution_count": 57,
   "metadata": {},
   "outputs": [
    {
     "data": {
      "text/plain": [
       "Text(0.5, 1.0, 'Price Range/ Bluetooth')"
      ]
     },
     "execution_count": 57,
     "metadata": {},
     "output_type": "execute_result"
    },
    {
     "data": {
      "image/png": "[encoded data removed]",
      "text/plain": [
       "<Figure size 432x288 with 1 Axes>"
      ]
     },
     "metadata": {
      "needs_background": "light"
     },
     "output_type": "display_data"
    }
   ],
   "source": [
    "sns.countplot(x='Bluetooth', data=train, hue='PriceRange')\n",
    "plt.title('Price Range/ Bluetooth')"
   ]
  },
  {
   "cell_type": "code",
   "execution_count": 58,
   "metadata": {},
   "outputs": [
    {
     "data": {
      "text/html": [
       "<div>\n",
       "<style scoped>\n",
       "    .dataframe tbody tr th:only-of-type {\n",
       "        vertical-align: middle;\n",
       "    }\n",
       "\n",
       "    .dataframe tbody tr th {\n",
       "        vertical-align: top;\n",
       "    }\n",
       "\n",
       "    .dataframe thead th {\n",
       "        text-align: right;\n",
       "    }\n",
       "</style>\n",
       "<table border=\"1\" class=\"dataframe\">\n",
       "  <thead>\n",
       "    <tr style=\"text-align: right;\">\n",
       "      <th></th>\n",
       "      <th>BatteryPower</th>\n",
       "      <th>Bluetooth</th>\n",
       "      <th>ClockSpeed</th>\n",
       "      <th>DualSim</th>\n",
       "      <th>FrontCamera</th>\n",
       "      <th>4G</th>\n",
       "      <th>Rom</th>\n",
       "      <th>MobileDepth</th>\n",
       "      <th>MobileWeight</th>\n",
       "      <th>Core</th>\n",
       "      <th>RearCamera</th>\n",
       "      <th>PixelHieght</th>\n",
       "      <th>PixelWidth</th>\n",
       "      <th>Ram</th>\n",
       "      <th>ScreenHight</th>\n",
       "      <th>ScreenWidth</th>\n",
       "      <th>TalkTime</th>\n",
       "      <th>3G</th>\n",
       "      <th>TouchScreen</th>\n",
       "      <th>WiFi</th>\n",
       "    </tr>\n",
       "  </thead>\n",
       "  <tbody>\n",
       "    <tr>\n",
       "      <th>0</th>\n",
       "      <td>842</td>\n",
       "      <td>0</td>\n",
       "      <td>2.2</td>\n",
       "      <td>0</td>\n",
       "      <td>1</td>\n",
       "      <td>0</td>\n",
       "      <td>7</td>\n",
       "      <td>0.6</td>\n",
       "      <td>188</td>\n",
       "      <td>2</td>\n",
       "      <td>2</td>\n",
       "      <td>20</td>\n",
       "      <td>756</td>\n",
       "      <td>2549</td>\n",
       "      <td>9</td>\n",
       "      <td>7</td>\n",
       "      <td>19</td>\n",
       "      <td>0</td>\n",
       "      <td>0</td>\n",
       "      <td>1</td>\n",
       "    </tr>\n",
       "    <tr>\n",
       "      <th>1</th>\n",
       "      <td>1021</td>\n",
       "      <td>1</td>\n",
       "      <td>0.5</td>\n",
       "      <td>1</td>\n",
       "      <td>0</td>\n",
       "      <td>1</td>\n",
       "      <td>53</td>\n",
       "      <td>0.7</td>\n",
       "      <td>136</td>\n",
       "      <td>3</td>\n",
       "      <td>6</td>\n",
       "      <td>905</td>\n",
       "      <td>1988</td>\n",
       "      <td>2631</td>\n",
       "      <td>17</td>\n",
       "      <td>3</td>\n",
       "      <td>7</td>\n",
       "      <td>1</td>\n",
       "      <td>1</td>\n",
       "      <td>0</td>\n",
       "    </tr>\n",
       "    <tr>\n",
       "      <th>2</th>\n",
       "      <td>563</td>\n",
       "      <td>1</td>\n",
       "      <td>0.5</td>\n",
       "      <td>1</td>\n",
       "      <td>2</td>\n",
       "      <td>1</td>\n",
       "      <td>41</td>\n",
       "      <td>0.9</td>\n",
       "      <td>145</td>\n",
       "      <td>5</td>\n",
       "      <td>6</td>\n",
       "      <td>1263</td>\n",
       "      <td>1716</td>\n",
       "      <td>2603</td>\n",
       "      <td>11</td>\n",
       "      <td>2</td>\n",
       "      <td>9</td>\n",
       "      <td>1</td>\n",
       "      <td>1</td>\n",
       "      <td>0</td>\n",
       "    </tr>\n",
       "    <tr>\n",
       "      <th>3</th>\n",
       "      <td>615</td>\n",
       "      <td>1</td>\n",
       "      <td>2.5</td>\n",
       "      <td>0</td>\n",
       "      <td>0</td>\n",
       "      <td>0</td>\n",
       "      <td>10</td>\n",
       "      <td>0.8</td>\n",
       "      <td>131</td>\n",
       "      <td>6</td>\n",
       "      <td>9</td>\n",
       "      <td>1216</td>\n",
       "      <td>1786</td>\n",
       "      <td>2769</td>\n",
       "      <td>16</td>\n",
       "      <td>8</td>\n",
       "      <td>11</td>\n",
       "      <td>1</td>\n",
       "      <td>0</td>\n",
       "      <td>0</td>\n",
       "    </tr>\n",
       "    <tr>\n",
       "      <th>4</th>\n",
       "      <td>1821</td>\n",
       "      <td>1</td>\n",
       "      <td>1.2</td>\n",
       "      <td>0</td>\n",
       "      <td>13</td>\n",
       "      <td>1</td>\n",
       "      <td>44</td>\n",
       "      <td>0.6</td>\n",
       "      <td>141</td>\n",
       "      <td>2</td>\n",
       "      <td>14</td>\n",
       "      <td>1208</td>\n",
       "      <td>1212</td>\n",
       "      <td>1411</td>\n",
       "      <td>8</td>\n",
       "      <td>2</td>\n",
       "      <td>15</td>\n",
       "      <td>1</td>\n",
       "      <td>1</td>\n",
       "      <td>0</td>\n",
       "    </tr>\n",
       "  </tbody>\n",
       "</table>\n",
       "</div>"
      ],
      "text/plain": [
       "   BatteryPower  Bluetooth  ClockSpeed  DualSim  FrontCamera  4G  Rom  \\\n",
       "0           842          0         2.2        0            1   0    7   \n",
       "1          1021          1         0.5        1            0   1   53   \n",
       "2           563          1         0.5        1            2   1   41   \n",
       "3           615          1         2.5        0            0   0   10   \n",
       "4          1821          1         1.2        0           13   1   44   \n",
       "\n",
       "   MobileDepth  MobileWeight  Core  RearCamera  PixelHieght  PixelWidth   Ram  \\\n",
       "0          0.6           188     2           2           20         756  2549   \n",
       "1          0.7           136     3           6          905        1988  2631   \n",
       "2          0.9           145     5           6         1263        1716  2603   \n",
       "3          0.8           131     6           9         1216        1786  2769   \n",
       "4          0.6           141     2          14         1208        1212  1411   \n",
       "\n",
       "   ScreenHight  ScreenWidth  TalkTime  3G  TouchScreen  WiFi  \n",
       "0            9            7        19   0            0     1  \n",
       "1           17            3         7   1            1     0  \n",
       "2           11            2         9   1            1     0  \n",
       "3           16            8        11   1            0     0  \n",
       "4            8            2        15   1            1     0  "
      ]
     },
     "execution_count": 58,
     "metadata": {},
     "output_type": "execute_result"
    }
   ],
   "source": [
    "X = train.drop('PriceRange',axis=1)\n",
    "X.head()"
   ]
  },
  {
   "cell_type": "code",
   "execution_count": 59,
   "metadata": {},
   "outputs": [
    {
     "data": {
      "text/plain": [
       "0    1\n",
       "1    2\n",
       "2    2\n",
       "3    2\n",
       "4    1\n",
       "Name: PriceRange, dtype: int64"
      ]
     },
     "execution_count": 59,
     "metadata": {},
     "output_type": "execute_result"
    }
   ],
   "source": [
    "y = train['PriceRange']\n",
    "y.head()"
   ]
  },
  {
   "cell_type": "code",
   "execution_count": 60,
   "metadata": {},
   "outputs": [],
   "source": [
    "from sklearn.model_selection import train_test_split\n",
    "\n",
    "X_train, X_test, y_train, y_test = train_test_split(X, y, test_size=0.33, random_state=101)"
   ]
  },
  {
   "cell_type": "code",
   "execution_count": 61,
   "metadata": {},
   "outputs": [
    {
     "name": "stdout",
     "output_type": "stream",
     "text": [
      "(2000, 20)\n"
     ]
    }
   ],
   "source": [
    "print(X.shape)"
   ]
  },
  {
   "cell_type": "code",
   "execution_count": 62,
   "metadata": {},
   "outputs": [
    {
     "name": "stdout",
     "output_type": "stream",
     "text": [
      "(2000,)\n"
     ]
    }
   ],
   "source": [
    "print(y.shape)"
   ]
  },
  {
   "cell_type": "code",
   "execution_count": 63,
   "metadata": {},
   "outputs": [
    {
     "name": "stdout",
     "output_type": "stream",
     "text": [
      "61      0\n",
      "853     0\n",
      "680     3\n",
      "455     2\n",
      "130     3\n",
      "850     3\n",
      "413     2\n",
      "1413    2\n",
      "375     2\n",
      "835     3\n",
      "1213    1\n",
      "1159    0\n",
      "25      2\n",
      "792     2\n",
      "1510    1\n",
      "536     0\n",
      "1462    3\n",
      "583     0\n",
      "54      2\n",
      "691     0\n",
      "33      3\n",
      "1281    3\n",
      "1320    1\n",
      "548     2\n",
      "1381    3\n",
      "769     1\n",
      "1016    0\n",
      "1736    1\n",
      "1253    0\n",
      "1811    1\n",
      "       ..\n",
      "883     1\n",
      "1949    2\n",
      "371     1\n",
      "136     1\n",
      "1530    0\n",
      "623     2\n",
      "1875    0\n",
      "49      3\n",
      "40      2\n",
      "477     0\n",
      "908     1\n",
      "1029    2\n",
      "1134    0\n",
      "1728    1\n",
      "732     0\n",
      "316     1\n",
      "1781    3\n",
      "936     3\n",
      "575     2\n",
      "1668    1\n",
      "1576    0\n",
      "973     2\n",
      "1417    1\n",
      "75      1\n",
      "599     0\n",
      "1599    3\n",
      "1862    0\n",
      "1361    0\n",
      "1547    2\n",
      "863     0\n",
      "Name: PriceRange, Length: 1340, dtype: int64\n"
     ]
    }
   ],
   "source": [
    "print(y_train)"
   ]
  },
  {
   "cell_type": "code",
   "execution_count": 64,
   "metadata": {},
   "outputs": [],
   "source": [
    "from sklearn.linear_model import LogisticRegression"
   ]
  },
  {
   "cell_type": "code",
   "execution_count": 65,
   "metadata": {},
   "outputs": [
    {
     "data": {
      "text/plain": [
       "LogisticRegression(C=1.0, class_weight=None, dual=False, fit_intercept=True,\n",
       "                   intercept_scaling=1, l1_ratio=None, max_iter=100,\n",
       "                   multi_class='warn', n_jobs=None, penalty='l2',\n",
       "                   random_state=None, solver='warn', tol=0.0001, verbose=0,\n",
       "                   warm_start=False)"
      ]
     },
     "execution_count": 65,
     "metadata": {},
     "output_type": "execute_result"
    }
   ],
   "source": [
    "logreg = LogisticRegression()\n",
    "\n",
    "logreg.fit(X_train, y_train)"
   ]
  },
  {
   "cell_type": "code",
   "execution_count": 66,
   "metadata": {},
   "outputs": [
    {
     "data": {
      "text/plain": [
       "array([1, 2, 2, 0, 1, 1, 2, 1, 0, 0, 0, 1, 1, 0, 1, 1, 0, 1, 0, 0, 3, 1,\n",
       "       2, 3, 3, 2, 2, 2, 0, 0, 2, 3, 0, 0, 3, 1, 1, 0, 1, 1, 1, 3, 3, 3,\n",
       "       3, 0, 2, 3, 3, 1, 0, 1, 3, 3, 3, 3, 1, 3, 2, 3, 2, 3, 3, 1, 3, 1,\n",
       "       0, 0, 0, 2, 1, 2, 3, 2, 2, 3, 3, 2, 0, 2, 0, 0, 3, 1, 2, 3, 1, 2,\n",
       "       0, 0, 3, 3, 0, 1, 0, 3, 2, 0, 1, 3, 0, 2, 3, 3, 0, 3, 0, 0, 3, 0,\n",
       "       1, 0, 3, 2, 1, 1, 2, 3, 1, 0, 3, 3, 2, 3, 1, 3, 3, 2, 0, 1, 0, 0,\n",
       "       0, 1, 0, 2, 3, 0, 1, 3, 3, 3, 0, 0, 0, 1, 1, 3, 3, 0, 2, 1, 2, 1,\n",
       "       3, 2, 2, 0, 3, 2, 2, 1, 2, 2, 0, 2, 1, 0, 3, 3, 1, 2, 0, 3, 1, 3,\n",
       "       2, 3, 3, 2, 1, 1, 1, 0, 3, 3, 1, 3, 0, 3, 0, 0, 3, 2, 0, 1, 0, 0,\n",
       "       3, 0, 1, 1, 3, 2, 1, 3, 0, 3, 1, 3, 2, 1, 1, 3, 0, 3, 0, 0, 3, 1,\n",
       "       1, 2, 3, 0, 1, 3, 3, 0, 3, 1, 1, 2, 0, 2, 1, 3, 1, 3, 1, 0, 2, 2,\n",
       "       2, 3, 0, 3, 3, 2, 3, 3, 1, 3, 1, 2, 3, 1, 0, 2, 0, 0, 1, 3, 3, 0,\n",
       "       1, 0, 1, 2, 0, 3, 3, 1, 3, 1, 1, 2, 1, 2, 0, 3, 1, 3, 1, 2, 3, 2,\n",
       "       3, 2, 2, 3, 2, 3, 0, 2, 2, 0, 3, 1, 0, 1, 3, 3, 1, 1, 3, 3, 1, 2,\n",
       "       0, 0, 2, 1, 0, 0, 1, 1, 3, 1, 3, 2, 1, 3, 2, 3, 1, 2, 3, 0, 1, 2,\n",
       "       2, 2, 2, 1, 0, 0, 2, 2, 0, 0, 1, 1, 3, 0, 0, 1, 0, 2, 3, 3, 1, 1,\n",
       "       2, 2, 0, 3, 1, 0, 0, 3, 0, 3, 3, 1, 0, 0, 0, 2, 0, 0, 0, 0, 0, 1,\n",
       "       1, 2, 1, 3, 1, 2, 2, 1, 3, 1, 0, 0, 0, 0, 1, 0, 3, 0, 3, 2, 1, 0,\n",
       "       3, 2, 0, 3, 3, 1, 0, 3, 2, 2, 1, 3, 1, 1, 1, 2, 2, 2, 1, 0, 3, 0,\n",
       "       0, 3, 0, 1, 2, 1, 1, 2, 3, 0, 3, 0, 3, 3, 3, 3, 3, 3, 3, 1, 1, 3,\n",
       "       0, 0, 3, 3, 0, 0, 1, 1, 1, 3, 0, 3, 0, 2, 0, 0, 2, 2, 3, 2, 0, 1,\n",
       "       3, 3, 0, 3, 2, 3, 3, 3, 0, 3, 2, 3, 1, 2, 3, 3, 2, 3, 1, 2, 1, 3,\n",
       "       3, 2, 3, 2, 1, 2, 3, 3, 0, 3, 0, 0, 3, 2, 3, 0, 2, 1, 3, 1, 3, 0,\n",
       "       3, 0, 0, 3, 0, 0, 3, 1, 3, 0, 3, 1, 0, 2, 3, 1, 1, 1, 3, 0, 1, 2,\n",
       "       1, 0, 1, 3, 0, 2, 0, 0, 0, 1, 3, 3, 2, 2, 1, 0, 1, 0, 3, 3, 1, 1,\n",
       "       3, 3, 0, 0, 1, 0, 1, 3, 1, 0, 2, 2, 3, 3, 3, 3, 2, 3, 3, 0, 2, 3,\n",
       "       0, 0, 3, 2, 3, 3, 3, 2, 3, 0, 3, 1, 2, 1, 3, 0, 1, 0, 3, 0, 0, 3,\n",
       "       0, 0, 1, 3, 1, 0, 1, 3, 1, 3, 2, 1, 0, 3, 1, 2, 2, 3, 0, 1, 0, 2,\n",
       "       3, 0, 3, 0, 0, 3, 1, 3, 1, 2, 3, 1, 3, 2, 3, 2, 3, 1, 1, 3, 2, 1,\n",
       "       3, 1, 1, 3, 0, 3, 1, 0, 2, 1, 0, 1, 0, 3, 0, 0, 1, 0, 2, 3, 2, 3],\n",
       "      dtype=int64)"
      ]
     },
     "execution_count": 66,
     "metadata": {},
     "output_type": "execute_result"
    }
   ],
   "source": [
    "predicted_price = logreg.predict(X_test)\n",
    "predicted_price"
   ]
  },
  {
   "cell_type": "code",
   "execution_count": 67,
   "metadata": {},
   "outputs": [
    {
     "data": {
      "text/plain": [
       "660"
      ]
     },
     "execution_count": 67,
     "metadata": {},
     "output_type": "execute_result"
    }
   ],
   "source": [
    "len(predicted_price)"
   ]
  },
  {
   "cell_type": "code",
   "execution_count": 68,
   "metadata": {},
   "outputs": [
    {
     "data": {
      "text/plain": [
       "0.7895522388059701"
      ]
     },
     "execution_count": 68,
     "metadata": {},
     "output_type": "execute_result"
    }
   ],
   "source": [
    "logreg.score(X_train, y_train)"
   ]
  },
  {
   "cell_type": "code",
   "execution_count": 69,
   "metadata": {},
   "outputs": [],
   "source": [
    "from sklearn.model_selection import cross_val_score"
   ]
  },
  {
   "cell_type": "code",
   "execution_count": 70,
   "metadata": {},
   "outputs": [
    {
     "name": "stdout",
     "output_type": "stream",
     "text": [
      "[0.79  0.79  0.77  0.755 0.83  0.775 0.715 0.78  0.795 0.76 ]\n",
      "0.776\n"
     ]
    }
   ],
   "source": [
    "score = cross_val_score(logreg, X, y, cv=10, scoring='accuracy')\n",
    "print(score)\n",
    "print(score.mean())"
   ]
  },
  {
   "cell_type": "code",
   "execution_count": null,
   "metadata": {},
   "outputs": [],
   "source": []
  }
 ],
 "metadata": {
  "kernelspec": {
   "display_name": "Python 3",
   "language": "python",
   "name": "python3"
  },
  "language_info": {
   "codemirror_mode": {
    "name": "ipython",
    "version": 3
   },
   "file_extension": ".py",
   "mimetype": "text/x-python",
   "name": "python",
   "nbconvert_exporter": "python",
   "pygments_lexer": "ipython3",
   "version": "3.7.4"
  }
 },
 "nbformat": 4,
 "nbformat_minor": 2
}
